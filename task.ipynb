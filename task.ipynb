{
 "cells": [
  {
   "cell_type": "markdown",
   "metadata": {},
   "source": [
    "# Task : write program to ask user to eter sq.feet & calculate no of acre"
   ]
  },
  {
   "cell_type": "code",
   "execution_count": 43,
   "metadata": {},
   "outputs": [],
   "source": [
    "oneacreoflandsize=43560"
   ]
  },
  {
   "cell_type": "code",
   "execution_count": 44,
   "metadata": {},
   "outputs": [],
   "source": [
    "oneacreoflandsize=43560"
   ]
  },
  {
   "cell_type": "code",
   "execution_count": 40,
   "metadata": {},
   "outputs": [
    {
     "name": "stdout",
     "output_type": "stream",
     "text": [
      "please enter total amountof square feet44444\n"
     ]
    }
   ],
   "source": [
    "usertotalsquarefeet=int(input(\"please enter total amount\"+ \"of square feet\"))"
   ]
  },
  {
   "cell_type": "code",
   "execution_count": null,
   "metadata": {},
   "outputs": [],
   "source": [
    "usertotalsquarefeet=int(input(\"please enter total amount\"+  \"of square feet\"))"
   ]
  },
  {
   "cell_type": "code",
   "execution_count": 41,
   "metadata": {},
   "outputs": [],
   "source": [
    "numberofacre=(usertotalsquarefeet/oneacreoflandsize)*1"
   ]
  },
  {
   "cell_type": "code",
   "execution_count": null,
   "metadata": {},
   "outputs": [],
   "source": [
    "numberofacre=(usertotalsquarefeet/oneacreoflandsize)*1"
   ]
  },
  {
   "cell_type": "code",
   "execution_count": 42,
   "metadata": {},
   "outputs": [
    {
     "name": "stdout",
     "output_type": "stream",
     "text": [
      "number of acre:1.02\n"
     ]
    }
   ],
   "source": [
    "print(\"number of acre:\"+ format(numberofacre,\".2f\"))"
   ]
  },
  {
   "cell_type": "code",
   "execution_count": null,
   "metadata": {},
   "outputs": [],
   "source": []
  },
  {
   "cell_type": "markdown",
   "metadata": {},
   "source": [
    "# Task : write a program to calculate ingredient according to the requirements & ask user to input cokkies quantity"
   ]
  },
  {
   "cell_type": "code",
   "execution_count": 27,
   "metadata": {},
   "outputs": [],
   "source": [
    "regularbatchofcookies=40"
   ]
  },
  {
   "cell_type": "code",
   "execution_count": 29,
   "metadata": {},
   "outputs": [],
   "source": [
    "cupsofsugarper48cookies=1.5"
   ]
  },
  {
   "cell_type": "code",
   "execution_count": 30,
   "metadata": {},
   "outputs": [],
   "source": [
    "cupsofbutterper48cookies=1"
   ]
  },
  {
   "cell_type": "code",
   "execution_count": 31,
   "metadata": {},
   "outputs": [],
   "source": [
    "cupsofflourper48cookies=2.75"
   ]
  },
  {
   "cell_type": "code",
   "execution_count": 34,
   "metadata": {},
   "outputs": [
    {
     "name": "stdout",
     "output_type": "stream",
     "text": [
      "how many cookies do you want to make:34567\n"
     ]
    }
   ],
   "source": [
    "usernumberofcookies=float(input(\"how many cookies do you want to make:\"))"
   ]
  },
  {
   "cell_type": "code",
   "execution_count": 35,
   "metadata": {},
   "outputs": [],
   "source": [
    "expectedcupsofsugar=(usernumberofcookies/regularbatchofcookies)*cupsofsugarper48cookies"
   ]
  },
  {
   "cell_type": "code",
   "execution_count": 36,
   "metadata": {},
   "outputs": [],
   "source": [
    "expectedcupsofbutter=(usernumberofcookies/regularbatchofcookies)*cupsofbutterper48cookies"
   ]
  },
  {
   "cell_type": "code",
   "execution_count": 37,
   "metadata": {},
   "outputs": [],
   "source": [
    "expectedcupsofflour=(usernumberofcookies/regularbatchofcookies)*cupsofflourper48cookies"
   ]
  },
  {
   "cell_type": "code",
   "execution_count": 38,
   "metadata": {},
   "outputs": [
    {
     "name": "stdout",
     "output_type": "stream",
     "text": [
      "for34567.0you will need1296.2624999999998cups of sugar,864.175cups of butter,2376.48125cups of flour.\n"
     ]
    }
   ],
   "source": [
    "print(\"for\"+str(usernumberofcookies)+\"you will need\"+str(expectedcupsofsugar)+\"cups of sugar,\"+str(expectedcupsofbutter)+\"cups of butter,\"+str(expectedcupsofflour)+\"cups of flour.\")"
   ]
  },
  {
   "cell_type": "code",
   "execution_count": null,
   "metadata": {},
   "outputs": [],
   "source": []
  }
 ],
 "metadata": {
  "kernelspec": {
   "display_name": "Python 3",
   "language": "python",
   "name": "python3"
  },
  "language_info": {
   "codemirror_mode": {
    "name": "ipython",
    "version": 3
   },
   "file_extension": ".py",
   "mimetype": "text/x-python",
   "name": "python",
   "nbconvert_exporter": "python",
   "pygments_lexer": "ipython3",
   "version": "3.7.3"
  }
 },
 "nbformat": 4,
 "nbformat_minor": 2
}
