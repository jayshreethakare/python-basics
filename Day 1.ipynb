{
 "cells": [
  {
   "cell_type": "markdown",
   "metadata": {},
   "source": [
    "# Python 3 basics"
   ]
  },
  {
   "cell_type": "code",
   "execution_count": 1,
   "metadata": {},
   "outputs": [
    {
     "name": "stdout",
     "output_type": "stream",
     "text": [
      "Hello World\n"
     ]
    }
   ],
   "source": [
    "print(\"Hello World\")"
   ]
  },
  {
   "cell_type": "code",
   "execution_count": 2,
   "metadata": {},
   "outputs": [
    {
     "name": "stdout",
     "output_type": "stream",
     "text": [
      "3\n"
     ]
    }
   ],
   "source": [
    "Mynumber =3\n",
    "print(Mynumber)"
   ]
  },
  {
   "cell_type": "code",
   "execution_count": 3,
   "metadata": {},
   "outputs": [
    {
     "name": "stdout",
     "output_type": "stream",
     "text": [
      "hello\n"
     ]
    }
   ],
   "source": [
    "Mynumber = 'hello'\n",
    "print(Mynumber)"
   ]
  },
  {
   "cell_type": "markdown",
   "metadata": {},
   "source": [
    " Python have 4 types of built in Data Structures namely List, Dictionary, Tuple and Set."
   ]
  },
  {
   "cell_type": "code",
   "execution_count": 4,
   "metadata": {},
   "outputs": [
    {
     "name": "stdout",
     "output_type": "stream",
     "text": [
      "[21, 40.5, 'String']\n"
     ]
    }
   ],
   "source": [
    "# Python program to illustrate a list  \n",
    "  \n",
    "# creates a empty list \n",
    "nums = []  \n",
    "  \n",
    "# appending data in list \n",
    "nums.append(21) \n",
    "nums.append(40.5) \n",
    "nums.append(\"String\") \n",
    "  \n",
    "print(nums) \n"
   ]
  },
  {
   "cell_type": "code",
   "execution_count": 5,
   "metadata": {},
   "outputs": [],
   "source": [
    "nums=[]\n",
    "nums.append(21)\n",
    "nums.append(34)"
   ]
  },
  {
   "cell_type": "code",
   "execution_count": 6,
   "metadata": {},
   "outputs": [
    {
     "data": {
      "text/plain": [
       "[21, 34]"
      ]
     },
     "execution_count": 6,
     "metadata": {},
     "output_type": "execute_result"
    }
   ],
   "source": [
    "nums"
   ]
  },
  {
   "cell_type": "code",
   "execution_count": 7,
   "metadata": {},
   "outputs": [
    {
     "name": "stdout",
     "output_type": "stream",
     "text": [
      "Enter your Best friends name: 5\n",
      "hello my best friend is 5\n"
     ]
    }
   ],
   "source": [
    "# Python program to illustrate \n",
    "# getting input from user \n",
    "name = input(\"Enter your Best friends name: \")  \n",
    "  \n",
    "# user entered the name 'harssh' \n",
    "print(\"hello my best friend is\", name) "
   ]
  },
  {
   "cell_type": "code",
   "execution_count": 8,
   "metadata": {},
   "outputs": [
    {
     "name": "stdout",
     "output_type": "stream",
     "text": [
      "Enter num1: 5\n",
      "Enter num2: 5\n",
      "Product is:  25\n"
     ]
    }
   ],
   "source": [
    "# Python3 program to get input from user \n",
    "  \n",
    "# accepting integer from the user \n",
    "# the return type of input() function is string , \n",
    "# so we need to convert the input to integer \n",
    "num1 = int(input(\"Enter num1: \")) \n",
    "num2 = int(input(\"Enter num2: \")) \n",
    "  \n",
    "num3 = num1 * num2 \n",
    "print(\"Product is: \", num3) "
   ]
  },
  {
   "cell_type": "markdown",
   "metadata": {},
   "source": [
    "# Selection\n",
    "\n",
    "Selection in Python is made using the two keywords ‘if’ and ‘elif’ and else (elseif)"
   ]
  },
  {
   "cell_type": "code",
   "execution_count": 9,
   "metadata": {},
   "outputs": [
    {
     "name": "stdout",
     "output_type": "stream",
     "text": [
      "Num2 is great\n"
     ]
    }
   ],
   "source": [
    "# Python program to illustrate \n",
    "# selection statement \n",
    "  \n",
    "num1 = 3\n",
    "if(num1>12): \n",
    "    print(\"Num1 is good\") \n",
    "elif(num1>35): \n",
    "    print(\"Num2 is not gooooo....\") \n",
    "else: \n",
    "    print(\"Num2 is great\") "
   ]
  },
  {
   "cell_type": "markdown",
   "metadata": {},
   "source": [
    "# Functions\n",
    "\n",
    "You can think of functions like a bunch of code that is intended to do a particular task in the whole Python script. Python used the keyword ‘def’ to define a function.\n",
    "Syntax:\n",
    "\n",
    "def function-name(arguments):\n",
    "            #function body"
   ]
  },
  {
   "cell_type": "code",
   "execution_count": 10,
   "metadata": {},
   "outputs": [
    {
     "name": "stdout",
     "output_type": "stream",
     "text": [
      "hello\n",
      "hello again\n",
      "hello\n",
      "hello again\n"
     ]
    }
   ],
   "source": [
    "# Python program to illustrate \n",
    "# functions \n",
    "def hello(): \n",
    "    print(\"hello\") \n",
    "    print(\"hello again\") \n",
    "hello() \n",
    "  \n",
    "# calling function \n",
    "hello()       "
   ]
  },
  {
   "cell_type": "code",
   "execution_count": 11,
   "metadata": {},
   "outputs": [
    {
     "name": "stdout",
     "output_type": "stream",
     "text": [
      "Started\n",
      "Enter integer: 6\n",
      "6\n"
     ]
    }
   ],
   "source": [
    "#Python program to illustrate  \n",
    "# function with main \n",
    "def getInteger(): \n",
    "    result = int(input(\"Enter integer: \")) \n",
    "    return result \n",
    "  \n",
    "def Main(): \n",
    "    print(\"Started\") \n",
    "  \n",
    "    # calling the getInteger function and  \n",
    "    # storing its returned value in the output variable \n",
    "    output = getInteger()      \n",
    "    print(output) \n",
    "  \n",
    "# now we are required to tell Python  \n",
    "# for 'Main' function existence \n",
    "if __name__==\"__main__\": \n",
    "    Main() "
   ]
  },
  {
   "cell_type": "markdown",
   "metadata": {},
   "source": [
    "# Iteration (Looping)\n",
    "\n",
    "As the name suggests it calls repeating things again and again. We will use the most popular ‘for’ loop here."
   ]
  },
  {
   "cell_type": "code",
   "execution_count": 12,
   "metadata": {},
   "outputs": [
    {
     "name": "stdout",
     "output_type": "stream",
     "text": [
      "0\n",
      "1\n",
      "2\n",
      "3\n",
      "4\n"
     ]
    }
   ],
   "source": [
    "# Python program to illustrate \n",
    "# a simple for loop \n",
    "  \n",
    "for step in range(5):     \n",
    "    print(step) "
   ]
  },
  {
   "cell_type": "code",
   "execution_count": 13,
   "metadata": {},
   "outputs": [],
   "source": [
    "from pymongo import MongoClient "
   ]
  },
  {
   "cell_type": "code",
   "execution_count": 14,
   "metadata": {},
   "outputs": [
    {
     "name": "stdout",
     "output_type": "stream",
     "text": [
      "Requirement already satisfied: pymongo in c:\\users\\nilesh\\.conda\\ana\\lib\\site-packages (3.11.2)\n",
      "Note: you may need to restart the kernel to use updated packages.\n"
     ]
    }
   ],
   "source": [
    "pip install pymongo"
   ]
  },
  {
   "cell_type": "code",
   "execution_count": null,
   "metadata": {},
   "outputs": [],
   "source": []
  }
 ],
 "metadata": {
  "kernelspec": {
   "display_name": "Python 3",
   "language": "python",
   "name": "python3"
  },
  "language_info": {
   "codemirror_mode": {
    "name": "ipython",
    "version": 3
   },
   "file_extension": ".py",
   "mimetype": "text/x-python",
   "name": "python",
   "nbconvert_exporter": "python",
   "pygments_lexer": "ipython3",
   "version": "3.7.3"
  }
 },
 "nbformat": 4,
 "nbformat_minor": 2
}
